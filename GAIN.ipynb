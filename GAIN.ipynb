{
 "cells": [
  {
   "cell_type": "code",
   "execution_count": 1,
   "id": "356a7e6d-f605-4f5f-a894-1036f5f07b31",
   "metadata": {},
   "outputs": [],
   "source": [
    "# pip install hyperimpute"
   ]
  },
  {
   "cell_type": "code",
   "execution_count": 2,
   "id": "020b3efb",
   "metadata": {},
   "outputs": [],
   "source": [
    "import pandas as pd\n",
    "import numpy as np\n",
    "from sklearn.metrics import mean_absolute_error, mean_squared_error\n",
    "import time"
   ]
  },
  {
   "cell_type": "code",
   "execution_count": 3,
   "id": "8471c5f7-0963-497c-8f25-c768b9cefc9b",
   "metadata": {},
   "outputs": [
    {
     "data": {
      "text/plain": [
       "['nop',\n",
       " 'median',\n",
       " 'gain',\n",
       " 'hyperimpute',\n",
       " 'sklearn_ice',\n",
       " 'most_frequent',\n",
       " 'miwae',\n",
       " 'sklearn_missforest',\n",
       " 'EM',\n",
       " 'missforest',\n",
       " 'sinkhorn',\n",
       " 'miracle',\n",
       " 'ice',\n",
       " 'softimpute',\n",
       " 'mice',\n",
       " 'mean']"
      ]
     },
     "execution_count": 3,
     "metadata": {},
     "output_type": "execute_result"
    }
   ],
   "source": [
    "from hyperimpute.plugins.imputers import Imputers\n",
    "\n",
    "imputers = Imputers()\n",
    "\n",
    "imputers.list()"
   ]
  },
  {
   "cell_type": "code",
   "execution_count": 4,
   "id": "fd0fde43",
   "metadata": {},
   "outputs": [
    {
     "data": {
      "text/plain": [
       "3030"
      ]
     },
     "execution_count": 4,
     "metadata": {},
     "output_type": "execute_result"
    }
   ],
   "source": [
    "df_mcar = pd.read_parquet('/Users/izadoraganem/GAIN/hyperimpute/bases/df_mcar_50.parquet')\n",
    "df_copy = pd.read_parquet('//Users/izadoraganem/GAIN/hyperimpute/bases/Base_onda_Onda 1_desfecho_obito_variaveis_all.parquet')\n",
    "df_copy = df_copy.copy()\n",
    "df_mcar['sat_fio2'].isna().sum()"
   ]
  },
  {
   "cell_type": "code",
   "execution_count": null,
   "id": "72a7388a",
   "metadata": {},
   "outputs": [],
   "source": [
    "def calculate_errors(df_real, df_imputed, column):\n",
    "    df_real_subset = df_real.loc[df_imputed.index, :]\n",
    "\n",
    "    mae = mean_absolute_error(df_real_subset[column], df_imputed[column])\n",
    "\n",
    "    mse = mean_squared_error(df_real_subset[column], df_imputed[column])\n",
    "\n",
    "    return mae, mse"
   ]
  },
  {
   "cell_type": "code",
   "execution_count": 1,
   "id": "a44ae649",
   "metadata": {},
   "outputs": [],
   "source": [
    "def GAIN(X):\n",
    "    method = \"gain\"\n",
    "\n",
    "    plugin = Imputers().get(method)\n",
    "    out = plugin.fit_transform(X.copy())\n",
    "\n",
    "    print(method, out)\n"
   ]
  },
  {
   "cell_type": "code",
   "execution_count": null,
   "id": "fe3a11f9",
   "metadata": {},
   "outputs": [
    {
     "ename": "",
     "evalue": "",
     "output_type": "error",
     "traceback": [
      "\u001b[1;31mThe Kernel crashed while executing code in the current cell or a previous cell. \n",
      "\u001b[1;31mPlease review the code in the cell(s) to identify a possible cause of the failure. \n",
      "\u001b[1;31mClick <a href='https://aka.ms/vscodeJupyterKernelCrash'>here</a> for more info. \n",
      "\u001b[1;31mView Jupyter <a href='command:jupyter.viewOutput'>log</a> for further details."
     ]
    }
   ],
   "source": [
    "import pandas as pd\n",
    "import numpy as np\n",
    "import time\n",
    "from hyperimpute.plugins.imputers import Imputers\n",
    "\n",
    "imputadores = {'GAIN': GAIN}\n",
    "metricas = {}\n",
    "\n",
    "for i in range(10):  \n",
    "\n",
    "    X_train = pd.read_parquet(f'/Users/izadoraganem/Imputation/Imputation/datasets/train_fold_{i}.parquet')\n",
    "    X_test = pd.read_parquet(f'/Users/izadoraganem/Imputation/Imputation/datasets/test_fold_{i}.parquet')\n",
    "\n",
    "    X = pd.concat([X_train, X_test], axis=0)\n",
    "\n",
    "\n",
    "    for nome, imputador in imputadores.items():\n",
    "        start_time = time.time()\n",
    "        resultado = imputador(X.copy())\n",
    "        time_ = time.time() - start_time\n",
    "\n",
    "        mae,mse = calculate_errors(df_copy, resultado)\n",
    "\n",
    "        metricas.append({'fold': i, 'tempo': time_, 'mae': mae, 'mse': mse})\n",
    "      \n",
    "\n",
    "  \n"
   ]
  }
 ],
 "metadata": {
  "kernelspec": {
   "display_name": "base",
   "language": "python",
   "name": "python3"
  },
  "language_info": {
   "codemirror_mode": {
    "name": "ipython",
    "version": 3
   },
   "file_extension": ".py",
   "mimetype": "text/x-python",
   "name": "python",
   "nbconvert_exporter": "python",
   "pygments_lexer": "ipython3",
   "version": "3.12.7"
  }
 },
 "nbformat": 4,
 "nbformat_minor": 5
}
