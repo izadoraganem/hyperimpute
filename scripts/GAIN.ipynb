{
 "cells": [
  {
   "cell_type": "code",
   "execution_count": 50,
   "id": "356a7e6d-f605-4f5f-a894-1036f5f07b31",
   "metadata": {},
   "outputs": [],
   "source": [
    "# pip install hyperimpute"
   ]
  },
  {
   "cell_type": "code",
   "execution_count": 51,
   "id": "020b3efb",
   "metadata": {},
   "outputs": [],
   "source": [
    "import pandas as pd\n",
    "import numpy as np\n",
    "from sklearn.metrics import mean_absolute_error, mean_squared_error\n",
    "import time"
   ]
  },
  {
   "cell_type": "code",
   "execution_count": 52,
   "id": "8471c5f7-0963-497c-8f25-c768b9cefc9b",
   "metadata": {},
   "outputs": [
    {
     "data": {
      "text/plain": [
       "['miwae',\n",
       " 'EM',\n",
       " 'median',\n",
       " 'missforest',\n",
       " 'sinkhorn',\n",
       " 'most_frequent',\n",
       " 'mice',\n",
       " 'hyperimpute',\n",
       " 'miracle',\n",
       " 'gain',\n",
       " 'mean',\n",
       " 'softimpute',\n",
       " 'sklearn_missforest',\n",
       " 'sklearn_ice',\n",
       " 'nop',\n",
       " 'ice']"
      ]
     },
     "execution_count": 52,
     "metadata": {},
     "output_type": "execute_result"
    }
   ],
   "source": [
    "from hyperimpute.plugins.imputers import Imputers\n",
    "\n",
    "imputers = Imputers()\n",
    "\n",
    "imputers.list()"
   ]
  },
  {
   "cell_type": "code",
   "execution_count": 53,
   "id": "fd0fde43",
   "metadata": {},
   "outputs": [
    {
     "data": {
      "text/plain": [
       "3030"
      ]
     },
     "execution_count": 53,
     "metadata": {},
     "output_type": "execute_result"
    }
   ],
   "source": [
    "df_mcar = pd.read_parquet('/Users/izadoraganem/GAIN/hyperimpute/bases/df_mcar_50.parquet')\n",
    "df_copy = pd.read_parquet('//Users/izadoraganem/GAIN/hyperimpute/bases/Base_onda_Onda 1_desfecho_obito_variaveis_all.parquet')\n",
    "df_copy = df_copy.copy()\n",
    "df_mcar['sat_fio2'].isna().sum()\n"
   ]
  },
  {
   "cell_type": "code",
   "execution_count": 54,
   "id": "72a7388a",
   "metadata": {},
   "outputs": [],
   "source": [
    "def calculate_errors(df_true, df_imputed, column):\n",
    "    df_subset = df_true.loc[df_imputed.index, :]\n",
    "    mae = mean_absolute_error(df_subset[column], df_imputed[column])\n",
    "    mse = mean_squared_error(df_subset[column], df_imputed[column])\n",
    "    return mae, mse"
   ]
  },
  {
   "cell_type": "code",
   "execution_count": 55,
   "id": "a44ae649",
   "metadata": {},
   "outputs": [],
   "source": [
    "def GAIN(X):\n",
    "    method = \"gain\"\n",
    "\n",
    "    plugin = Imputers().get(method)\n",
    "    out = plugin.fit_transform(X.copy())\n",
    "\n",
    "    return out\n"
   ]
  },
  {
   "cell_type": "code",
   "execution_count": 56,
   "id": "fe3a11f9",
   "metadata": {},
   "outputs": [
    {
     "name": "stdout",
     "output_type": "stream",
     "text": [
      "FOLD 0\n",
      "303\n",
      "(303, 62)\n",
      "FOLD 1\n",
      "303\n",
      "(303, 62)\n",
      "FOLD 2\n",
      "303\n",
      "(303, 62)\n",
      "FOLD 3\n",
      "303\n",
      "(303, 62)\n",
      "FOLD 4\n",
      "303\n",
      "(303, 62)\n",
      "FOLD 5\n",
      "303\n",
      "(303, 62)\n",
      "FOLD 6\n",
      "303\n",
      "(303, 62)\n",
      "FOLD 7\n",
      "303\n",
      "(303, 62)\n",
      "FOLD 8\n",
      "303\n",
      "(303, 62)\n",
      "FOLD 9\n",
      "303\n",
      "(303, 62)\n"
     ]
    }
   ],
   "source": [
    "import pandas as pd\n",
    "import numpy as np\n",
    "import time\n",
    "from hyperimpute.plugins.imputers import Imputers\n",
    "\n",
    "imputadores = {'GAIN': GAIN}\n",
    "metricas = []\n",
    "\n",
    "for i in range(10):  \n",
    "\n",
    "    X_train = pd.read_parquet(f'/Users/izadoraganem/Imputation/Imputation/datasets/train_fold_{i}.parquet')\n",
    "    X_test = pd.read_parquet(f'/Users/izadoraganem/Imputation/Imputation/datasets/test_fold_{i}.parquet')\n",
    "\n",
    "    X = pd.concat([X_train, X_test], axis=0)\n",
    "\n",
    "    # print(X)\n",
    "\n",
    "    for nome, imputador in imputadores.items():\n",
    "        select = []\n",
    "        start_time = time.time()\n",
    "        resultado = imputador(X.copy())\n",
    "        time_ = time.time() - start_time\n",
    "\n",
    "        print(f'FOLD {i}')\n",
    "\n",
    "        # print(resultado)\n",
    "\n",
    "        resultado = pd.DataFrame(resultado)\n",
    "        resultado.columns = X_test.columns\n",
    "        resultado.index = X.index\n",
    "        \n",
    "        index = resultado.index\n",
    "        \n",
    "        for idx in index:\n",
    "            if idx in X_test.index:\n",
    "                select.append(idx)\n",
    "\n",
    "        print(len(select))\n",
    "        \n",
    "        resultado = resultado.loc[select]\n",
    "\n",
    "        print(resultado.shape)\n",
    "        # print(resultado_df)\n",
    "        \n",
    "        # só calcula o erro entre o que foi imputado por gain \n",
    "        mae,mse = calculate_errors(df_copy, resultado, 'sat_fio2')\n",
    "\n",
    "        metricas.append({'medoto': nome,'fold': i, 'tempo': time_, 'mae': mae, 'mse': mse})\n",
    "      \n",
    "# metricas = pd.DataFrame(metricas)  \n",
    "# print(metricas)\n"
   ]
  },
  {
   "cell_type": "code",
   "execution_count": 58,
   "id": "a1a7b0aa",
   "metadata": {},
   "outputs": [
    {
     "name": "stdout",
     "output_type": "stream",
     "text": [
      "        fold     tempo        mae           mse\n",
      "medoto                                         \n",
      "GAIN     4.5  9.392222  94.506899  18013.318509\n"
     ]
    }
   ],
   "source": [
    "metricas = pd.DataFrame(metricas)  \n",
    "# print(metricas)\n",
    "print(metricas.groupby('medoto').mean())"
   ]
  }
 ],
 "metadata": {
  "kernelspec": {
   "display_name": "py312_jupyter",
   "language": "python",
   "name": "python3"
  },
  "language_info": {
   "codemirror_mode": {
    "name": "ipython",
    "version": 3
   },
   "file_extension": ".py",
   "mimetype": "text/x-python",
   "name": "python",
   "nbconvert_exporter": "python",
   "pygments_lexer": "ipython3",
   "version": "3.12.9"
  }
 },
 "nbformat": 4,
 "nbformat_minor": 5
}
